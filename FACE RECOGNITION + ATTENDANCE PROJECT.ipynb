{
 "cells": [
  {
   "cell_type": "code",
   "execution_count": 1,
   "id": "9ea04ac0",
   "metadata": {},
   "outputs": [],
   "source": [
    "import numpy as np\n",
    "import cv2\n",
    "import face_recognition as fr\n",
    "import os\n",
    "from datetime import datetime"
   ]
  },
  {
   "cell_type": "code",
   "execution_count": 2,
   "id": "1428e424",
   "metadata": {},
   "outputs": [],
   "source": [
    "path = \"images\"\n",
    "images = []\n",
    "img_names = []\n",
    "\n",
    "mylist = os.listdir(path) \n",
    "\n",
    "for img in mylist:\n",
    "    cur_img = cv2.imread(f'{path}/{img}')\n",
    "    images.append(cur_img)\n",
    "    img_names.append(os.path.splitext(img)[0])"
   ]
  },
  {
   "cell_type": "code",
   "execution_count": 3,
   "id": "65351e68",
   "metadata": {},
   "outputs": [],
   "source": [
    "def find_encoding(images):\n",
    "    encode_list = []\n",
    "    for img in images:\n",
    "        img = cv2.cvtColor(img,cv2.COLOR_BGR2RGB)\n",
    "        img_encode = fr.face_encodings(img)[0]\n",
    "        encode_list.append(img_encode)\n",
    "    return encode_list  "
   ]
  },
  {
   "cell_type": "code",
   "execution_count": 4,
   "id": "7b07e04a",
   "metadata": {
    "scrolled": true
   },
   "outputs": [
    {
     "data": {
      "text/plain": [
       "6"
      ]
     },
     "execution_count": 4,
     "metadata": {},
     "output_type": "execute_result"
    }
   ],
   "source": [
    "encoded_images = find_encoding(images)\n",
    "len(encoded_images)"
   ]
  },
  {
   "cell_type": "code",
   "execution_count": 5,
   "id": "943e9f6c",
   "metadata": {},
   "outputs": [],
   "source": [
    "def mark_attendance(name):\n",
    "    with open('Attendance.csv', 'r+') as f:\n",
    "        my_data_list = f.readlines()\n",
    "        name_list = []\n",
    "        for line in my_data_list:\n",
    "            entry = line.split(',')\n",
    "            name_list.append(entry[0])\n",
    "        if name not in name_list:\n",
    "            now = datetime.now()\n",
    "            dt_string = now.strftime('%H:%M:%S')\n",
    "            f.writelines(f'\\n{name},{dt_string}')"
   ]
  },
  {
   "cell_type": "code",
   "execution_count": 6,
   "id": "35daed89",
   "metadata": {},
   "outputs": [],
   "source": [
    "cap = cv2.VideoCapture(0)"
   ]
  },
  {
   "cell_type": "code",
   "execution_count": null,
   "id": "949210e0",
   "metadata": {},
   "outputs": [
    {
     "name": "stdout",
     "output_type": "stream",
     "text": [
      "[0.77226462 0.76552339 0.65683368 0.68447643 0.50262979 0.81758465]\n",
      "OMAR\n",
      "[0.84567738 0.83972796 0.71127667 0.63780003 0.39376053 0.82415434]\n",
      "OMAR\n",
      "[0.84398601 0.84379953 0.7266908  0.65411437 0.4350076  0.83589697]\n",
      "OMAR\n",
      "[0.86231696 0.85961044 0.73469391 0.63737506 0.40291802 0.84510696]\n",
      "OMAR\n",
      "[0.82387693 0.80955308 0.72571516 0.65116063 0.42041964 0.85263407]\n",
      "OMAR\n",
      "[0.823651   0.82495388 0.67873929 0.63494038 0.43688984 0.78980169]\n",
      "OMAR\n",
      "[0.81320369 0.81016417 0.6702284  0.52132618 0.56283573 0.78869574]\n",
      "OMAR AZIZ\n",
      "[0.90706699 0.9161485  0.74769725 0.439455   0.56502089 0.83683227]\n",
      "OMAR AZIZ\n",
      "[0.9358074  0.93876437 0.76398103 0.45664279 0.59126976 0.85958972]\n",
      "OMAR AZIZ\n",
      "[0.96821094 0.98208522 0.78492088 0.48550519 0.58735707 0.84456665]\n",
      "OMAR AZIZ\n",
      "[0.92423757 0.93595334 0.75464578 0.45443183 0.61141629 0.84165703]\n",
      "OMAR AZIZ\n",
      "[0.9282401  0.92787599 0.73175335 0.42727152 0.61934293 0.83911629]\n",
      "OMAR AZIZ\n",
      "[0.89329978 0.90039519 0.75713228 0.43648526 0.58206957 0.8112407 ]\n",
      "OMAR AZIZ\n",
      "[0.93891341 0.91890571 0.68330838 0.58593395 0.73989694 0.92136795]\n",
      "OMAR AZIZ\n",
      "[0.94223241 0.918094   0.71722904 0.61176582 0.69765543 0.9325252 ]\n",
      "[0.92099094 0.9067165  0.71931735 0.51668177 0.71010139 0.88823591]\n",
      "OMAR AZIZ\n",
      "[0.93545879 0.91301191 0.6916061  0.53981052 0.74173865 0.905958  ]\n",
      "OMAR AZIZ\n",
      "[0.82611945 0.82759152 0.67144774 0.69297264 0.49201498 0.81770673]\n",
      "OMAR\n",
      "[0.84397256 0.84735153 0.70778026 0.66684635 0.40627766 0.76290715]\n",
      "OMAR\n",
      "[0.86770683 0.85928196 0.69334738 0.60922373 0.38215893 0.80442659]\n",
      "OMAR\n",
      "[0.74658305 0.7474862  0.59885469 0.73061229 0.64569769 0.85551856]\n",
      "GENDY\n",
      "[0.83645497 0.83624537 0.71687731 0.61829505 0.35801347 0.8230349 ]\n",
      "OMAR\n",
      "[0.8197791  0.79211249 0.6897225  0.65521762 0.42420497 0.84039766]\n",
      "OMAR\n",
      "[0.83324411 0.81471675 0.71556091 0.64826162 0.45057304 0.86294898]\n",
      "OMAR\n",
      "[0.8288453  0.82681776 0.71305288 0.60118564 0.38247241 0.83016675]\n",
      "OMAR\n",
      "[0.84036017 0.84160246 0.67655986 0.64416124 0.46841838 0.82290233]\n",
      "OMAR\n",
      "[0.8344227  0.84184738 0.71708259 0.59307636 0.42573754 0.8082356 ]\n",
      "OMAR\n",
      "[0.8086694  0.80935406 0.71500088 0.6096248  0.43378071 0.82431395]\n",
      "OMAR\n",
      "[0.84253301 0.84514082 0.71806835 0.59243354 0.46117423 0.8239538 ]\n",
      "OMAR\n",
      "[0.83630026 0.84200429 0.70291    0.56694156 0.44676942 0.81439492]\n",
      "OMAR\n",
      "[0.84976366 0.85067535 0.73422531 0.6091619  0.43057282 0.85672993]\n",
      "OMAR\n",
      "[0.8424037  0.83438887 0.70456573 0.61416987 0.43279824 0.84339043]\n",
      "OMAR\n",
      "[0.84372631 0.84425999 0.73216848 0.60516601 0.46679356 0.83593715]\n",
      "OMAR\n",
      "[0.8276644  0.83432029 0.72669912 0.62638493 0.4433479  0.8268266 ]\n",
      "OMAR\n"
     ]
    }
   ],
   "source": [
    "while True:\n",
    "    success, img = cap.read()\n",
    "    img_compress = cv2.resize(img, (0,0), None, 0.25, 0.25)\n",
    "    img_compress = cv2.cvtColor(img_compress,cv2.COLOR_BGR2RGB)\n",
    "    faces_cur_frame = fr.face_locations(img_compress)\n",
    "    encodes_cur_frame = fr.face_encodings(img_compress, faces_cur_frame)\n",
    "    \n",
    "    for encode_face, face_loc in zip(encodes_cur_frame, faces_cur_frame):\n",
    "        matches = fr.compare_faces(encoded_images, encode_face)\n",
    "        face_dist = fr.face_distance(encoded_images, encode_face)\n",
    "        print(face_dist)\n",
    "        match_index = np.argmin(face_dist)\n",
    "        \n",
    "        if matches[match_index]:\n",
    "            name = img_names[match_index].upper()\n",
    "            print(name)\n",
    "            y1, x2, y2, x1 = face_loc\n",
    "            y1, x2, y2, x1 = 4*y1, 4*x2, 4*y2, 4*x1\n",
    "            cv2.rectangle(img, (x1, y1), (x2, y2), (0,0,255), 2)\n",
    "            cv2.rectangle(img, (x1, y2-35), (x2, y2), (0,0,255), cv2.FILLED)\n",
    "            cv2.putText(img, name, (x1+6, y2-6), cv2.FONT_HERSHEY_COMPLEX, 1, (255,255,255), 2)\n",
    "            mark_attendance(name)\n",
    "\n",
    "            \n",
    "    cv2.imshow(\"webcam\", img)\n",
    "    cv2.waitKey(1)"
   ]
  },
  {
   "cell_type": "code",
   "execution_count": null,
   "id": "2f93a9b4",
   "metadata": {},
   "outputs": [],
   "source": []
  }
 ],
 "metadata": {
  "kernelspec": {
   "display_name": "Python 3 (ipykernel)",
   "language": "python",
   "name": "python3"
  },
  "language_info": {
   "codemirror_mode": {
    "name": "ipython",
    "version": 3
   },
   "file_extension": ".py",
   "mimetype": "text/x-python",
   "name": "python",
   "nbconvert_exporter": "python",
   "pygments_lexer": "ipython3",
   "version": "3.9.12"
  }
 },
 "nbformat": 4,
 "nbformat_minor": 5
}
